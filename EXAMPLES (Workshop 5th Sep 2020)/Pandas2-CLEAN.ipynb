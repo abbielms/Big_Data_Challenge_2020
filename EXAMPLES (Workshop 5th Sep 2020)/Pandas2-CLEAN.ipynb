{
 "cells": [
  {
   "cell_type": "markdown",
   "metadata": {},
   "source": [
    "## In this lesson\n",
    "1. How to handle copmplex excels in Pandas.\n",
    "2. Sharpening your pandas toolkit\n",
    "3. How to say it with charts"
   ]
  },
  {
   "cell_type": "markdown",
   "metadata": {},
   "source": [
    "# Reading Multiple Excel Sheets\n",
    "Often excels have more than one tab. <br>\n",
    "Pandas allows us multiple ways to read an excel <br>\n",
    "Lets execute following commands as see the difference"
   ]
  },
  {
   "cell_type": "code",
   "execution_count": 2,
   "metadata": {},
   "outputs": [],
   "source": [
    "import pandas as pd"
   ]
  },
  {
   "cell_type": "code",
   "execution_count": 3,
   "metadata": {},
   "outputs": [],
   "source": [
    "first_sheet_only = pd.read_excel('data/movies.xls')\n",
    "\n",
    "selected_sheet_only = pd.read_excel('data/movies.xls', sheet_name = '2000s')\n",
    "\n",
    "selected_sheet_only_w_index = pd.read_excel('data/movies.xls', sheet_name = 1)\n",
    "\n",
    "all_sheets = pd.read_excel('data/movies.xls', sheet_name = None)"
   ]
  },
  {
   "cell_type": "code",
   "execution_count": null,
   "metadata": {},
   "outputs": [],
   "source": [
    "# In this cell check result of variable first_sheet_only\n",
    "first_sheet_only"
   ]
  },
  {
   "cell_type": "code",
   "execution_count": null,
   "metadata": {},
   "outputs": [],
   "source": [
    "# In this cell check result of variable selected_sheet_only"
   ]
  },
  {
   "cell_type": "code",
   "execution_count": null,
   "metadata": {},
   "outputs": [],
   "source": [
    "# In this cell check result of variable selected_sheet_only_w_index"
   ]
  },
  {
   "cell_type": "code",
   "execution_count": 7,
   "metadata": {},
   "outputs": [
    {
     "data": {
      "text/plain": [
       "{'1900s':                                                   Title  Year  \\\n",
       " 0     Intolerance: Love's Struggle Throughout the Ages   1916   \n",
       " 1                       Over the Hill to the Poorhouse   1920   \n",
       " 2                                       The Big Parade   1925   \n",
       " 3                                           Metropolis   1927   \n",
       " 4                                        Pandora's Box   1929   \n",
       " ...                                                 ...   ...   \n",
       " 1333                                  Twin Falls Idaho   1999   \n",
       " 1334                     Universal Soldier: The Return   1999   \n",
       " 1335                                     Varsity Blues   1999   \n",
       " 1336                                    Wild Wild West   1999   \n",
       " 1337                                    Wing Commander   1999   \n",
       " \n",
       "                             Genres Language  Country Content Rating  Duration  \\\n",
       " 0                Drama|History|War      NaN      USA      Not Rated       123   \n",
       " 1                      Crime|Drama      NaN      USA            NaN       110   \n",
       " 2                Drama|Romance|War      NaN      USA      Not Rated       151   \n",
       " 3                     Drama|Sci-Fi   German  Germany      Not Rated       145   \n",
       " 4              Crime|Drama|Romance   German  Germany      Not Rated       110   \n",
       " ...                            ...      ...      ...            ...       ...   \n",
       " 1333                         Drama  English      USA              R       111   \n",
       " 1334                 Action|Sci-Fi  English      USA              R        83   \n",
       " 1335    Comedy|Drama|Romance|Sport  English      USA              R       106   \n",
       " 1336  Action|Comedy|Sci-Fi|Western  English      USA          PG-13       106   \n",
       " 1337       Action|Adventure|Sci-Fi  English      USA          PG-13       100   \n",
       " \n",
       "       Aspect Ratio       Budget  Gross Earnings  ... Facebook Likes - Actor 1  \\\n",
       " 0             1.33     385907.0             NaN  ...                      436   \n",
       " 1             1.33     100000.0       3000000.0  ...                        2   \n",
       " 2             1.33     245000.0             NaN  ...                       81   \n",
       " 3             1.33    6000000.0         26435.0  ...                      136   \n",
       " 4             1.33          NaN          9950.0  ...                      426   \n",
       " ...            ...          ...             ...  ...                      ...   \n",
       " 1333          1.85     500000.0        985341.0  ...                      980   \n",
       " 1334          1.85   24000000.0      10431220.0  ...                     2000   \n",
       " 1335          1.85   16000000.0      52885587.0  ...                    23000   \n",
       " 1336          1.85  170000000.0     113745408.0  ...                    10000   \n",
       " 1337          2.35   30000000.0      11576087.0  ...                      811   \n",
       " \n",
       "      Facebook Likes - Actor 2 Facebook Likes - Actor 3  \\\n",
       " 0                          22                      9.0   \n",
       " 1                           2                      0.0   \n",
       " 2                          12                      6.0   \n",
       " 3                          23                     18.0   \n",
       " 4                          20                      3.0   \n",
       " ...                       ...                      ...   \n",
       " 1333                      505                    482.0   \n",
       " 1334                      577                    485.0   \n",
       " 1335                      255                     35.0   \n",
       " 1336                     4000                    582.0   \n",
       " 1337                      586                    362.0   \n",
       " \n",
       "      Facebook Likes - cast Total  Facebook likes - Movie  \\\n",
       " 0                            481                     691   \n",
       " 1                              4                       0   \n",
       " 2                            108                     226   \n",
       " 3                            203                   12000   \n",
       " 4                            455                     926   \n",
       " ...                          ...                     ...   \n",
       " 1333                        3166                     180   \n",
       " 1334                        4024                     401   \n",
       " 1335                       23369                       0   \n",
       " 1336                       15870                       0   \n",
       " 1337                        2497                     858   \n",
       " \n",
       "       Facenumber in posters  User Votes  Reviews by Users  Reviews by Crtiics  \\\n",
       " 0                         1       10718                88                69.0   \n",
       " 1                         1           5                 1                 1.0   \n",
       " 2                         0        4849                45                48.0   \n",
       " 3                         1      111841               413               260.0   \n",
       " 4                         1        7431                84                71.0   \n",
       " ...                     ...         ...               ...                 ...   \n",
       " 1333                      0        3479                87                54.0   \n",
       " 1334                      0       24216               162                75.0   \n",
       " 1335                      0       35312               267                67.0   \n",
       " 1336                      2      129601               648                85.0   \n",
       " 1337                      3       14747               338                85.0   \n",
       " \n",
       "       IMDB Score  \n",
       " 0            8.0  \n",
       " 1            4.8  \n",
       " 2            8.3  \n",
       " 3            8.3  \n",
       " 4            8.0  \n",
       " ...          ...  \n",
       " 1333         7.3  \n",
       " 1334         4.1  \n",
       " 1335         6.4  \n",
       " 1336         4.8  \n",
       " 1337         4.1  \n",
       " \n",
       " [1338 rows x 25 columns],\n",
       " '2000s':                                   Title  Year  \\\n",
       " 0                       102 Dalmatians   2000   \n",
       " 1                              28 Days   2000   \n",
       " 2                            3 Strikes   2000   \n",
       " 3                             Aberdeen   2000   \n",
       " 4                All the Pretty Horses   2000   \n",
       " ...                                 ...   ...   \n",
       " 2095          X-Men Origins: Wolverine   2009   \n",
       " 2096                          Year One   2009   \n",
       " 2097                   Youth in Revolt   2009   \n",
       " 2098  ZMD: Zombies of Mass Destruction   2009   \n",
       " 2099                        Zombieland   2009   \n",
       " \n",
       "                                         Genres Language Country  \\\n",
       " 0                      Adventure|Comedy|Family  English     USA   \n",
       " 1                                 Comedy|Drama  English     USA   \n",
       " 2                                       Comedy  English     USA   \n",
       " 3                                        Drama  English      UK   \n",
       " 4                        Drama|Romance|Western  English     USA   \n",
       " ...                                        ...      ...     ...   \n",
       " 2095  Action|Adventure|Fantasy|Sci-Fi|Thriller  English     USA   \n",
       " 2096                          Adventure|Comedy  English     USA   \n",
       " 2097                      Comedy|Drama|Romance  English     USA   \n",
       " 2098                      Comedy|Horror|Sci-Fi  English     USA   \n",
       " 2099            Adventure|Comedy|Horror|Sci-Fi  English     USA   \n",
       " \n",
       "      Content Rating  Duration  Aspect Ratio       Budget  Gross Earnings  ...  \\\n",
       " 0                 G     100.0          1.85   85000000.0      66941559.0  ...   \n",
       " 1             PG-13     103.0          1.37   43000000.0      37035515.0  ...   \n",
       " 2                 R      82.0          1.85    6000000.0       9821335.0  ...   \n",
       " 3               NaN     106.0          1.85    6500000.0         64148.0  ...   \n",
       " 4             PG-13     220.0          2.35   57000000.0      15527125.0  ...   \n",
       " ...             ...       ...           ...          ...             ...  ...   \n",
       " 2095          PG-13     119.0          2.35  150000000.0     179883016.0  ...   \n",
       " 2096          PG-13     100.0          1.85   60000000.0      43337279.0  ...   \n",
       " 2097              R      90.0          1.85   18000000.0      15281286.0  ...   \n",
       " 2098              R      89.0          1.85     500000.0             NaN  ...   \n",
       " 2099              R      88.0          2.35   23600000.0      75590286.0  ...   \n",
       " \n",
       "      Facebook Likes - Actor 1 Facebook Likes - Actor 2  \\\n",
       " 0                      2000.0                    795.0   \n",
       " 1                     12000.0                  10000.0   \n",
       " 2                       939.0                    706.0   \n",
       " 3                       844.0                      2.0   \n",
       " 4                     13000.0                    861.0   \n",
       " ...                       ...                      ...   \n",
       " 2095                  20000.0                  16000.0   \n",
       " 2096                  10000.0                   1000.0   \n",
       " 2097                  12000.0                    904.0   \n",
       " 2098                    199.0                     37.0   \n",
       " 2099                  15000.0                  13000.0   \n",
       " \n",
       "      Facebook Likes - Actor 3 Facebook Likes - cast Total  \\\n",
       " 0                       439.0                        4182   \n",
       " 1                       664.0                       23864   \n",
       " 2                       585.0                        3354   \n",
       " 3                         0.0                         846   \n",
       " 4                       820.0                       15006   \n",
       " ...                       ...                         ...   \n",
       " 2095                   2000.0                       40054   \n",
       " 2096                    485.0                       12258   \n",
       " 2097                    729.0                       16004   \n",
       " 2098                     23.0                         292   \n",
       " 2099                     11.0                       28011   \n",
       " \n",
       "       Facebook likes - Movie  Facenumber in posters  User Votes  \\\n",
       " 0                        372                      1       26413   \n",
       " 1                          0                      1       34597   \n",
       " 2                        118                      1        1415   \n",
       " 3                        260                      0        2601   \n",
       " 4                        652                      2       11388   \n",
       " ...                      ...                    ...         ...   \n",
       " 2095                       0                      0      361924   \n",
       " 2096                       0                      2       76770   \n",
       " 2097                       0                      2       64646   \n",
       " 2098                       0                      0        3650   \n",
       " 2099                   26000                      4      386217   \n",
       " \n",
       "       Reviews by Users  Reviews by Crtiics  IMDB Score  \n",
       " 0                 77.0                84.0         4.8  \n",
       " 1                194.0               116.0         6.0  \n",
       " 2                 10.0                22.0         4.0  \n",
       " 3                 35.0                28.0         7.3  \n",
       " 4                183.0                85.0         5.8  \n",
       " ...                ...                 ...         ...  \n",
       " 2095             641.0               350.0         6.7  \n",
       " 2096             203.0               170.0         4.9  \n",
       " 2097             105.0               192.0         6.5  \n",
       " 2098              39.0                64.0         5.1  \n",
       " 2099             553.0               445.0         7.7  \n",
       " \n",
       " [2100 rows x 25 columns],\n",
       " '2010s':                                      Title    Year  \\\n",
       " 0                               127 Hours   2010.0   \n",
       " 1                             3 Backyards   2010.0   \n",
       " 2                                       3   2010.0   \n",
       " 3               8: The Mormon Proposition   2010.0   \n",
       " 4     A Turtle's Tale: Sammy's Adventures   2010.0   \n",
       " ...                                    ...     ...   \n",
       " 1599              War & Peace                  NaN   \n",
       " 1600                    Wings                  NaN   \n",
       " 1601               Wolf Creek                  NaN   \n",
       " 1602        Wuthering Heights                  NaN   \n",
       " 1603  Yu-Gi-Oh! Duel Monsters                  NaN   \n",
       " \n",
       "                                          Genres  Language    Country  \\\n",
       " 0            Adventure|Biography|Drama|Thriller   English        USA   \n",
       " 1                                         Drama   English        USA   \n",
       " 2                          Comedy|Drama|Romance    German    Germany   \n",
       " 3                                   Documentary   English        USA   \n",
       " 4                    Adventure|Animation|Family   English     France   \n",
       " ...                                         ...       ...        ...   \n",
       " 1599                  Drama|History|Romance|War   English         UK   \n",
       " 1600                               Comedy|Drama   English        USA   \n",
       " 1601                      Drama|Horror|Thriller   English  Australia   \n",
       " 1602                              Drama|Romance   English         UK   \n",
       " 1603  Action|Adventure|Animation|Family|Fantasy  Japanese      Japan   \n",
       " \n",
       "      Content Rating  Duration  Aspect Ratio      Budget  Gross Earnings  ...  \\\n",
       " 0                 R      94.0          1.85  18000000.0      18329466.0  ...   \n",
       " 1                 R      88.0           NaN    300000.0             NaN  ...   \n",
       " 2           Unrated     119.0          2.35         NaN         59774.0  ...   \n",
       " 3                 R      80.0          1.78   2500000.0         99851.0  ...   \n",
       " 4                PG      88.0          2.35         NaN             NaN  ...   \n",
       " ...             ...       ...           ...         ...             ...  ...   \n",
       " 1599          TV-14       NaN         16.00         NaN             NaN  ...   \n",
       " 1600            NaN      30.0          1.33         NaN             NaN  ...   \n",
       " 1601            NaN       NaN          2.00         NaN             NaN  ...   \n",
       " 1602            NaN     142.0           NaN         NaN             NaN  ...   \n",
       " 1603            NaN      24.0           NaN         NaN             NaN  ...   \n",
       " \n",
       "      Facebook Likes - Actor 1 Facebook Likes - Actor 2  \\\n",
       " 0                     11000.0                    642.0   \n",
       " 1                       795.0                    659.0   \n",
       " 2                        24.0                     20.0   \n",
       " 3                       191.0                     12.0   \n",
       " 4                       783.0                    749.0   \n",
       " ...                       ...                      ...   \n",
       " 1599                   1000.0                    888.0   \n",
       " 1600                    685.0                    511.0   \n",
       " 1601                    511.0                    457.0   \n",
       " 1602                  27000.0                    698.0   \n",
       " 1603                      0.0                      NaN   \n",
       " \n",
       "      Facebook Likes - Actor 3 Facebook Likes - cast Total  \\\n",
       " 0                       223.0                       11984   \n",
       " 1                       301.0                        1884   \n",
       " 2                         9.0                          69   \n",
       " 3                         5.0                         210   \n",
       " 4                       602.0                        3874   \n",
       " ...                       ...                         ...   \n",
       " 1599                    502.0                        4528   \n",
       " 1600                    424.0                        1884   \n",
       " 1601                    206.0                        1617   \n",
       " 1602                    427.0                       29196   \n",
       " 1603                      NaN                           0   \n",
       " \n",
       "       Facebook likes - Movie  Facenumber in posters  User Votes  \\\n",
       " 0                      63000                    0.0      279179   \n",
       " 1                         92                    0.0         554   \n",
       " 2                       2000                    0.0        4212   \n",
       " 3                          0                    0.0        1138   \n",
       " 4                          0                    2.0        5385   \n",
       " ...                      ...                    ...         ...   \n",
       " 1599                   11000                    1.0        9277   \n",
       " 1600                    1000                    5.0        7646   \n",
       " 1601                     954                    0.0         726   \n",
       " 1602                       0                    2.0        6053   \n",
       " 1603                     124                    0.0       12417   \n",
       " \n",
       "       Reviews by Users  Reviews by Crtiics  IMDB Score  \n",
       " 0                440.0               450.0         7.6  \n",
       " 1                 23.0                20.0         5.2  \n",
       " 2                 18.0                76.0         6.8  \n",
       " 3                 30.0                28.0         7.1  \n",
       " 4                 22.0                56.0         6.1  \n",
       " ...                ...                 ...         ...  \n",
       " 1599              44.0                10.0         8.2  \n",
       " 1600              56.0                19.0         7.3  \n",
       " 1601               6.0                 2.0         7.1  \n",
       " 1602              33.0                 9.0         7.7  \n",
       " 1603              51.0                 6.0         7.0  \n",
       " \n",
       " [1604 rows x 25 columns]}"
      ]
     },
     "execution_count": 7,
     "metadata": {},
     "output_type": "execute_result"
    }
   ],
   "source": [
    "# In this cell check result of variable all_sheets\n",
    "all_sheets\n",
    "# all_sheets['2000s']"
   ]
  },
  {
   "cell_type": "markdown",
   "metadata": {},
   "source": [
    "# [Q1] Find out how many sheets are in the excel"
   ]
  },
  {
   "cell_type": "code",
   "execution_count": 8,
   "metadata": {},
   "outputs": [
    {
     "data": {
      "text/plain": [
       "3"
      ]
     },
     "execution_count": 8,
     "metadata": {},
     "output_type": "execute_result"
    }
   ],
   "source": [
    "# Test shape of all 3 variables above\n",
    "# variable all_sheets does not have a shape because its a dict.\n",
    "len(all_sheets)"
   ]
  },
  {
   "cell_type": "markdown",
   "metadata": {},
   "source": [
    "## [Q2] How many rows in excel tab 2010s. [Hint: Try accessing one of the key-value pairs in Dictionary]"
   ]
  },
  {
   "cell_type": "code",
   "execution_count": 9,
   "metadata": {},
   "outputs": [
    {
     "data": {
      "text/plain": [
       "1604"
      ]
     },
     "execution_count": 9,
     "metadata": {},
     "output_type": "execute_result"
    }
   ],
   "source": [
    "# Please complete the rest of this cell\n",
    "len(all_sheets['2010s'])"
   ]
  },
  {
   "cell_type": "markdown",
   "metadata": {},
   "source": [
    "# Adding columns to existing dataframes\n",
    "Many time we have to add new columns to the data deriving it from existing columns.\n"
   ]
  },
  {
   "cell_type": "markdown",
   "metadata": {},
   "source": [
    "# Add budget of movies by 10 %"
   ]
  },
  {
   "cell_type": "markdown",
   "metadata": {},
   "source": [
    "## [Q3] Lets read first sheet of excel in variable movies_df"
   ]
  },
  {
   "cell_type": "code",
   "execution_count": 12,
   "metadata": {},
   "outputs": [],
   "source": [
    "# Please complete the rest of this cell\n",
    "movies_df = first_sheet_only"
   ]
  },
  {
   "cell_type": "code",
   "execution_count": 13,
   "metadata": {},
   "outputs": [
    {
     "data": {
      "text/html": [
       "<div>\n",
       "<style scoped>\n",
       "    .dataframe tbody tr th:only-of-type {\n",
       "        vertical-align: middle;\n",
       "    }\n",
       "\n",
       "    .dataframe tbody tr th {\n",
       "        vertical-align: top;\n",
       "    }\n",
       "\n",
       "    .dataframe thead th {\n",
       "        text-align: right;\n",
       "    }\n",
       "</style>\n",
       "<table border=\"1\" class=\"dataframe\">\n",
       "  <thead>\n",
       "    <tr style=\"text-align: right;\">\n",
       "      <th></th>\n",
       "      <th>Budget</th>\n",
       "      <th>increased_budget</th>\n",
       "    </tr>\n",
       "  </thead>\n",
       "  <tbody>\n",
       "    <tr>\n",
       "      <th>0</th>\n",
       "      <td>385907.0</td>\n",
       "      <td>424497.7</td>\n",
       "    </tr>\n",
       "    <tr>\n",
       "      <th>1</th>\n",
       "      <td>100000.0</td>\n",
       "      <td>110000.0</td>\n",
       "    </tr>\n",
       "    <tr>\n",
       "      <th>2</th>\n",
       "      <td>245000.0</td>\n",
       "      <td>269500.0</td>\n",
       "    </tr>\n",
       "    <tr>\n",
       "      <th>3</th>\n",
       "      <td>6000000.0</td>\n",
       "      <td>6600000.0</td>\n",
       "    </tr>\n",
       "    <tr>\n",
       "      <th>4</th>\n",
       "      <td>NaN</td>\n",
       "      <td>NaN</td>\n",
       "    </tr>\n",
       "    <tr>\n",
       "      <th>...</th>\n",
       "      <td>...</td>\n",
       "      <td>...</td>\n",
       "    </tr>\n",
       "    <tr>\n",
       "      <th>1333</th>\n",
       "      <td>500000.0</td>\n",
       "      <td>550000.0</td>\n",
       "    </tr>\n",
       "    <tr>\n",
       "      <th>1334</th>\n",
       "      <td>24000000.0</td>\n",
       "      <td>26400000.0</td>\n",
       "    </tr>\n",
       "    <tr>\n",
       "      <th>1335</th>\n",
       "      <td>16000000.0</td>\n",
       "      <td>17600000.0</td>\n",
       "    </tr>\n",
       "    <tr>\n",
       "      <th>1336</th>\n",
       "      <td>170000000.0</td>\n",
       "      <td>187000000.0</td>\n",
       "    </tr>\n",
       "    <tr>\n",
       "      <th>1337</th>\n",
       "      <td>30000000.0</td>\n",
       "      <td>33000000.0</td>\n",
       "    </tr>\n",
       "  </tbody>\n",
       "</table>\n",
       "<p>1338 rows × 2 columns</p>\n",
       "</div>"
      ],
      "text/plain": [
       "           Budget  increased_budget\n",
       "0        385907.0          424497.7\n",
       "1        100000.0          110000.0\n",
       "2        245000.0          269500.0\n",
       "3       6000000.0         6600000.0\n",
       "4             NaN               NaN\n",
       "...           ...               ...\n",
       "1333     500000.0          550000.0\n",
       "1334   24000000.0        26400000.0\n",
       "1335   16000000.0        17600000.0\n",
       "1336  170000000.0       187000000.0\n",
       "1337   30000000.0        33000000.0\n",
       "\n",
       "[1338 rows x 2 columns]"
      ]
     },
     "execution_count": 13,
     "metadata": {},
     "output_type": "execute_result"
    }
   ],
   "source": [
    "# Lets increase movie budget by 10%\n",
    "\n",
    "def inc_by_10_pc(num):\n",
    "    return num *1.10\n",
    "\n",
    "movies_df['increased_budget'] = movies_df['Budget'].apply(inc_by_10_pc)\n",
    "movies_df[['Budget', 'increased_budget']]"
   ]
  },
  {
   "cell_type": "markdown",
   "metadata": {},
   "source": [
    "## [Q4] Create a new cloumn with 1 point decrease in IMDB rating of movies"
   ]
  },
  {
   "cell_type": "code",
   "execution_count": null,
   "metadata": {},
   "outputs": [],
   "source": [
    "# Please complete the rest of this cell"
   ]
  },
  {
   "cell_type": "markdown",
   "metadata": {},
   "source": [
    "# Groupby\n",
    "\n",
    "- Group by is used to split a pandas dataframe into groups.\n",
    "- Similar to groupby in other langauage e.g SQL\n"
   ]
  },
  {
   "cell_type": "code",
   "execution_count": 14,
   "metadata": {},
   "outputs": [
    {
     "data": {
      "text/plain": [
       "Year\n",
       "1916             NaN\n",
       "1920    3.000000e+06\n",
       "1925             NaN\n",
       "1927    2.643500e+04\n",
       "1929    1.408975e+06\n",
       "            ...     \n",
       "1995    4.490952e+07\n",
       "1996    4.204417e+07\n",
       "1997    4.479377e+07\n",
       "1998    3.837701e+07\n",
       "1999    3.807218e+07\n",
       "Name: Gross Earnings, Length: 74, dtype: float64"
      ]
     },
     "execution_count": 14,
     "metadata": {},
     "output_type": "execute_result"
    }
   ],
   "source": [
    "movies_mean = movies_df.groupby('Year')['Gross Earnings'].mean()\n",
    "movies_mean"
   ]
  },
  {
   "cell_type": "markdown",
   "metadata": {},
   "source": [
    "## Count number of movies by each country"
   ]
  },
  {
   "cell_type": "code",
   "execution_count": 15,
   "metadata": {},
   "outputs": [
    {
     "data": {
      "text/plain": [
       "Country\n",
       "Aruba                1\n",
       "Australia           18\n",
       "Brazil               2\n",
       "Canada              25\n",
       "China                1\n",
       "Czech Republic       1\n",
       "Denmark              3\n",
       "France              26\n",
       "Germany             12\n",
       "Hong Kong            3\n",
       "India                1\n",
       "Iran                 2\n",
       "Italy               11\n",
       "Japan                9\n",
       "Libya                1\n",
       "Mexico               1\n",
       "Netherlands          3\n",
       "New Zealand          2\n",
       "Norway               1\n",
       "Peru                 1\n",
       "South Korea          1\n",
       "Soviet Union         1\n",
       "Spain                4\n",
       "Sweden               1\n",
       "Switzerland          1\n",
       "UK                 130\n",
       "USA               1073\n",
       "West Germany         3\n",
       "Name: Title, dtype: int64"
      ]
     },
     "execution_count": 15,
     "metadata": {},
     "output_type": "execute_result"
    }
   ],
   "source": [
    "# Please complete the rest of this cell\n",
    "movies_by_country_count = movies_df.groupby('Country')['Title'].count()\n",
    "movies_by_country_count"
   ]
  },
  {
   "cell_type": "markdown",
   "metadata": {},
   "source": [
    "# Joining 2 dataframes\n",
    "\n",
    "- Most of the time single dataframe does not posses enough information\n",
    "- Information can be enriched by joining two dataframes"
   ]
  },
  {
   "cell_type": "code",
   "execution_count": 16,
   "metadata": {},
   "outputs": [
    {
     "data": {
      "text/html": [
       "<div>\n",
       "<style scoped>\n",
       "    .dataframe tbody tr th:only-of-type {\n",
       "        vertical-align: middle;\n",
       "    }\n",
       "\n",
       "    .dataframe tbody tr th {\n",
       "        vertical-align: top;\n",
       "    }\n",
       "\n",
       "    .dataframe thead th {\n",
       "        text-align: right;\n",
       "    }\n",
       "</style>\n",
       "<table border=\"1\" class=\"dataframe\">\n",
       "  <thead>\n",
       "    <tr style=\"text-align: right;\">\n",
       "      <th></th>\n",
       "      <th>index</th>\n",
       "      <th>flag</th>\n",
       "    </tr>\n",
       "  </thead>\n",
       "  <tbody>\n",
       "    <tr>\n",
       "      <th>0</th>\n",
       "      <td>USA</td>\n",
       "      <td>🇺🇸</td>\n",
       "    </tr>\n",
       "    <tr>\n",
       "      <th>1</th>\n",
       "      <td>UK</td>\n",
       "      <td>🇬🇧</td>\n",
       "    </tr>\n",
       "    <tr>\n",
       "      <th>2</th>\n",
       "      <td>France</td>\n",
       "      <td>🇫🇷</td>\n",
       "    </tr>\n",
       "    <tr>\n",
       "      <th>3</th>\n",
       "      <td>Canada</td>\n",
       "      <td>🇨🇦</td>\n",
       "    </tr>\n",
       "    <tr>\n",
       "      <th>4</th>\n",
       "      <td>Australia</td>\n",
       "      <td>🇦🇺</td>\n",
       "    </tr>\n",
       "    <tr>\n",
       "      <th>5</th>\n",
       "      <td>Germany</td>\n",
       "      <td>🇩🇪</td>\n",
       "    </tr>\n",
       "    <tr>\n",
       "      <th>6</th>\n",
       "      <td>Italy</td>\n",
       "      <td>🇮🇹</td>\n",
       "    </tr>\n",
       "    <tr>\n",
       "      <th>7</th>\n",
       "      <td>Japan</td>\n",
       "      <td>🇯🇵</td>\n",
       "    </tr>\n",
       "    <tr>\n",
       "      <th>8</th>\n",
       "      <td>Spain</td>\n",
       "      <td>🇪🇸</td>\n",
       "    </tr>\n",
       "  </tbody>\n",
       "</table>\n",
       "</div>"
      ],
      "text/plain": [
       "       index flag\n",
       "0        USA   🇺🇸\n",
       "1         UK   🇬🇧\n",
       "2     France   🇫🇷\n",
       "3     Canada   🇨🇦\n",
       "4  Australia   🇦🇺\n",
       "5    Germany   🇩🇪\n",
       "6      Italy   🇮🇹\n",
       "7      Japan   🇯🇵\n",
       "8      Spain   🇪🇸"
      ]
     },
     "execution_count": 16,
     "metadata": {},
     "output_type": "execute_result"
    }
   ],
   "source": [
    "#Lets create a small dataframe with flags of countries\n",
    "emojis = dict(\n",
    "    USA =  '🇺🇸',\n",
    "    UK = '🇬🇧',\n",
    "    France = '🇫🇷',\n",
    "    Canada = '🇨🇦',        \n",
    "    Australia = '🇦🇺',       \n",
    "    Germany = '🇩🇪',  \n",
    "    Italy = '🇮🇹',  \n",
    "    Japan = '🇯🇵',     \n",
    "    Spain = '🇪🇸'    \n",
    ")\n",
    "\n",
    "flag_df = pd.Series(emojis, name='flag').reset_index()\n",
    "flag_df"
   ]
  },
  {
   "cell_type": "code",
   "execution_count": null,
   "metadata": {},
   "outputs": [],
   "source": [
    "movies_by_country_df = movies_by_country_count.to_frame().rename(columns={\"Title\": \"Title counts\"})\n",
    "movies_by_country_df"
   ]
  },
  {
   "cell_type": "code",
   "execution_count": null,
   "metadata": {},
   "outputs": [],
   "source": [
    "#Now lets join it with our movies df and add flags to countries\n",
    "movies_by_country_df.merge(flag_df, left_on='Country', right_on='index')"
   ]
  },
  {
   "cell_type": "markdown",
   "metadata": {},
   "source": [
    "## Where did remaining rows go ??\n",
    "\n",
    "## Extra Credits\n",
    "\n",
    "- What are different types of join available?\n",
    "- How would you avoid dropping rows which do not have a flag lookup? \n",
    "- Hint: see how above command behaves with another join strategy."
   ]
  }
 ],
 "metadata": {
  "kernelspec": {
   "display_name": "Python 3",
   "language": "python",
   "name": "python3"
  },
  "language_info": {
   "codemirror_mode": {
    "name": "ipython",
    "version": 3
   },
   "file_extension": ".py",
   "mimetype": "text/x-python",
   "name": "python",
   "nbconvert_exporter": "python",
   "pygments_lexer": "ipython3",
   "version": "3.8.3"
  }
 },
 "nbformat": 4,
 "nbformat_minor": 2
}
